{
 "cells": [
  {
   "cell_type": "markdown",
   "metadata": {},
   "source": [
    "TASK5_PRIYANSHI_AGARWAL_SIRSS1156"
   ]
  },
  {
   "cell_type": "markdown",
   "metadata": {},
   "source": [
    "Q1. Given a list of integers, write a function to return the sum of all prime numbers in that\n",
    "list.\n",
    "\n",
    "\n"
   ]
  },
  {
   "cell_type": "code",
   "execution_count": 17,
   "metadata": {},
   "outputs": [
    {
     "name": "stdout",
     "output_type": "stream",
     "text": [
      "22\n"
     ]
    }
   ],
   "source": [
    "l=[2,3,4,5,5,6,6,7,8,9,10]\n",
    "def isprime(n):\n",
    "    if(n==1):\n",
    "        return False\n",
    "    if(n==2):\n",
    "        return True\n",
    "        \n",
    "    for i  in range(2,int((n**(1/2))+1)):\n",
    "        if n%i==0:\n",
    "            return False\n",
    "    return True    \n",
    "def f1(l):\n",
    "    s=0\n",
    "    for i in l:\n",
    "       if (isprime(i)):\n",
    "            s=s+i\n",
    "    return s\n",
    "print(f1(l))"
   ]
  },
  {
   "cell_type": "markdown",
   "metadata": {},
   "source": [
    "Q2. Given a list of integers, write a function to check whether the list is strictly increasing or\n",
    "not."
   ]
  },
  {
   "cell_type": "code",
   "execution_count": 18,
   "metadata": {},
   "outputs": [
    {
     "data": {
      "text/plain": [
       "False"
      ]
     },
     "execution_count": 18,
     "metadata": {},
     "output_type": "execute_result"
    }
   ],
   "source": [
    "def f(l):\n",
    "    for i in range(1,len(l)):\n",
    "        if(l[i]<l[i-1]):\n",
    "            return False\n",
    "    return True \n",
    "l=[1,2,3,4,5,9,7]\n",
    "f(l)"
   ]
  },
  {
   "cell_type": "markdown",
   "metadata": {},
   "source": [
    "Q3. Write a function to check whether a given list is expanding or not (the difference\n",
    "between adjacent elements should keep on increasing)."
   ]
  },
  {
   "cell_type": "code",
   "execution_count": 19,
   "metadata": {},
   "outputs": [
    {
     "data": {
      "text/plain": [
       "False"
      ]
     },
     "execution_count": 19,
     "metadata": {},
     "output_type": "execute_result"
    }
   ],
   "source": [
    "def f(l):\n",
    "    c=abs(l[1]-l[0])\n",
    "    for i in range(2,len(l)):\n",
    "        if(abs(l[i]-l[i-1])<=c):\n",
    "            return False\n",
    "        c=abs(l[i]-l[i-1])\n",
    "    return True\n",
    "f([1,3,6,7])"
   ]
  },
  {
   "cell_type": "markdown",
   "metadata": {},
   "source": [
    "Q4. Write a function to calculate all permutations of a given string. (Without using itertools)"
   ]
  },
  {
   "cell_type": "code",
   "execution_count": 20,
   "metadata": {},
   "outputs": [
    {
     "name": "stdout",
     "output_type": "stream",
     "text": [
      "['abcd', 'abdc', 'acbd', 'acdb', 'adcb', 'adbc', 'bacd', 'badc', 'bcad', 'bcda', 'bdca', 'bdac', 'cbad', 'cbda', 'cabd', 'cadb', 'cdab', 'cdba', 'dbca', 'dbac', 'dcba', 'dcab', 'dacb', 'dabc']\n"
     ]
    }
   ],
   "source": [
    "ini_str = \"abcd\"\n",
    "result = []\n",
    " \n",
    "def permutation(data, i, length):\n",
    "    if i == length:\n",
    "        result.append(''.join(data) )\n",
    "    else:\n",
    "        for j in range(i, length):\n",
    "           \n",
    "            data[i], data[j] = data[j], data[i]\n",
    "            permutation(data, i + 1, length)\n",
    "            data[i], data[j] = data[j], data[i] \n",
    "permutation(list(ini_str), 0, len(ini_str))\n",
    " \n",
    "\n",
    "print(str(result))\n"
   ]
  },
  {
   "cell_type": "code",
   "execution_count": null,
   "metadata": {},
   "outputs": [],
   "source": []
  }
 ],
 "metadata": {
  "kernelspec": {
   "display_name": "Python 3",
   "language": "python",
   "name": "python3"
  },
  "language_info": {
   "codemirror_mode": {
    "name": "ipython",
    "version": 3
   },
   "file_extension": ".py",
   "mimetype": "text/x-python",
   "name": "python",
   "nbconvert_exporter": "python",
   "pygments_lexer": "ipython3",
   "version": "3.8.8"
  }
 },
 "nbformat": 4,
 "nbformat_minor": 2
}
