{
 "cells": [
  {
   "cell_type": "markdown",
   "id": "be08d889",
   "metadata": {},
   "source": [
    "TASK3_PRIYANSHI AGARWAL SIRSS1156"
   ]
  },
  {
   "cell_type": "markdown",
   "id": "31247d16",
   "metadata": {},
   "source": [
    "Q1. Write a function to return nth term of Fibonacci sequence.\n",
    "Q2. Write a function to find out GCD of two numbers using EUCLID'S algorithm.\n"
   ]
  },
  {
   "cell_type": "code",
   "execution_count": 7,
   "id": "86260ddb",
   "metadata": {},
   "outputs": [
    {
     "name": "stdout",
     "output_type": "stream",
     "text": [
      "[1, 1, 2, 3, 5, 8]\n"
     ]
    }
   ],
   "source": [
    "def f(n):\n",
    "    l=[1,1]\n",
    "    a=1\n",
    "    b=1\n",
    "    for i in range(3,n+1):\n",
    "        l.append(a+b)\n",
    "        a,b=b+a,a\n",
    "    return l    \n",
    "print(f(6))        "
   ]
  },
  {
   "cell_type": "markdown",
   "id": "848beb39",
   "metadata": {},
   "source": [
    "Q2. Write a function to find out GCD of two numbers using EUCLID'S algorithm. "
   ]
  },
  {
   "cell_type": "code",
   "execution_count": 12,
   "id": "14e195f5",
   "metadata": {},
   "outputs": [
    {
     "name": "stdout",
     "output_type": "stream",
     "text": [
      "14\n"
     ]
    }
   ],
   "source": [
    "def gcd (a ,b):\n",
    "    if(a==0):\n",
    "        return b\n",
    "    if(b==0):\n",
    "        return a\n",
    "    if(a==b):\n",
    "        return a\n",
    "    if(a>b):\n",
    "        gcd(a-b,b)\n",
    "    return gcd(a,b-a)\n",
    "print(gcd(14,28))\n"
   ]
  },
  {
   "cell_type": "markdown",
   "id": "e9c31efb",
   "metadata": {},
   "source": [
    "Q3. Write a function to find LCM of two number in most optimizers way."
   ]
  },
  {
   "cell_type": "code",
   "execution_count": 21,
   "id": "3fe8ea06",
   "metadata": {},
   "outputs": [],
   "source": [
    "def lcm(a,b):\n",
    "     if(a>b):\n",
    "            g=a\n",
    "     else:\n",
    "        g=b\n",
    "     while(True):\n",
    "        if(g%a==0 and g%b==0):\n",
    "            return g\n",
    "        g=g+1\n",
    "        "
   ]
  },
  {
   "cell_type": "code",
   "execution_count": 22,
   "id": "cdc86953",
   "metadata": {},
   "outputs": [
    {
     "data": {
      "text/plain": [
       "35"
      ]
     },
     "execution_count": 22,
     "metadata": {},
     "output_type": "execute_result"
    }
   ],
   "source": [
    "lcm(5,7)"
   ]
  },
  {
   "cell_type": "code",
   "execution_count": null,
   "id": "6754eeae",
   "metadata": {},
   "outputs": [],
   "source": []
  }
 ],
 "metadata": {
  "kernelspec": {
   "display_name": "Python 3",
   "language": "python",
   "name": "python3"
  },
  "language_info": {
   "codemirror_mode": {
    "name": "ipython",
    "version": 3
   },
   "file_extension": ".py",
   "mimetype": "text/x-python",
   "name": "python",
   "nbconvert_exporter": "python",
   "pygments_lexer": "ipython3",
   "version": "3.8.8"
  }
 },
 "nbformat": 4,
 "nbformat_minor": 5
}
