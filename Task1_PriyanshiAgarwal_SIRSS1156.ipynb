{
 "cells": [
  {
   "cell_type": "markdown",
   "id": "b72ed5c2",
   "metadata": {},
   "source": [
    "Task 1 Name:Priyanshi Agarwal   Registration id: SIRSS1156"
   ]
  },
  {
   "cell_type": "markdown",
   "id": "be4306eb",
   "metadata": {},
   "source": [
    "Pattern 1:\n"
   ]
  },
  {
   "cell_type": "code",
   "execution_count": 10,
   "id": "30220705",
   "metadata": {},
   "outputs": [
    {
     "name": "stdout",
     "output_type": "stream",
     "text": [
      "5 5 5 5 5\n",
      "5 5 5 5\n",
      "5 5 5\n",
      "5 5\n",
      "5\n"
     ]
    }
   ],
   "source": [
    "l=['5']\n",
    "for i in range(5,0,-1):\n",
    "    print((\" \").join(l*i))\n"
   ]
  },
  {
   "cell_type": "markdown",
   "id": "9f4fa688",
   "metadata": {},
   "source": [
    "Pattern 2:\n"
   ]
  },
  {
   "cell_type": "code",
   "execution_count": 13,
   "id": "bb8caf01",
   "metadata": {},
   "outputs": [
    {
     "name": "stdout",
     "output_type": "stream",
     "text": [
      "0 1 2 3 4 5\n",
      "0 1 2 3 4\n",
      "0 1 2 3\n",
      "0 1 2\n",
      "0 1\n"
     ]
    }
   ],
   "source": [
    "l=['0','1','2','3','4','5']\n",
    "for i in range(0,5):\n",
    "     print((\" \").join(l))\n",
    "     l.pop()\n",
    "    \n",
    "\n"
   ]
  },
  {
   "cell_type": "markdown",
   "id": "b9954494",
   "metadata": {},
   "source": [
    "Pattern 3:\n"
   ]
  },
  {
   "cell_type": "code",
   "execution_count": 16,
   "id": "2948a0d5",
   "metadata": {},
   "outputs": [
    {
     "name": "stdout",
     "output_type": "stream",
     "text": [
      "1\n",
      "3 3\n",
      "5 5 5\n",
      "7 7 7 7\n",
      "9 9 9 9 9\n"
     ]
    }
   ],
   "source": [
    "l=['1']\n",
    "for i in range(1,6):\n",
    "    print((\" \").join(l*i))\n",
    "    l[0]=str(int(l[0])+2)\n",
    "    "
   ]
  },
  {
   "cell_type": "markdown",
   "id": "692455a9",
   "metadata": {},
   "source": [
    "pattern 4:\n"
   ]
  },
  {
   "cell_type": "code",
   "execution_count": 20,
   "id": "f88b93d5",
   "metadata": {},
   "outputs": [
    {
     "name": "stdout",
     "output_type": "stream",
     "text": [
      "1 \n",
      "2 1 \n",
      "3 2 1 \n",
      "4 3 2 1 \n",
      "5 4 3 2 1 \n"
     ]
    }
   ],
   "source": [
    "for i in range (1,6):\n",
    "    for j in range(i,0,-1):\n",
    "         print(j, end=\" \")\n",
    "    print()        \n",
    "            "
   ]
  },
  {
   "cell_type": "markdown",
   "id": "95d3a1e8",
   "metadata": {},
   "source": [
    "Pattern 5:\n",
    "    \n"
   ]
  },
  {
   "cell_type": "code",
   "execution_count": 24,
   "id": "fbb5e908",
   "metadata": {},
   "outputs": [
    {
     "name": "stdout",
     "output_type": "stream",
     "text": [
      "1 \n",
      "3 2 \n",
      "6 5 4 \n",
      "10 9 8 7 \n"
     ]
    }
   ],
   "source": [
    "a=0\n",
    "b=a+1\n",
    "for i in range(1,5):\n",
    "    \n",
    "    for j in range(a+i,b-1,-1):\n",
    "        print(j,end=\" \")\n",
    "    a=a+i\n",
    "    b=a+1\n",
    "    print(\"\")    \n",
    "        \n",
    "    "
   ]
  },
  {
   "cell_type": "markdown",
   "id": "2727355b",
   "metadata": {},
   "source": [
    "Pattern 6:\n",
    "1\n",
    "1 1\n",
    "1 2 1\n",
    "1 3 3 1\n",
    "1 4 6 4 1\n",
    "1 5 10 10 5 1\n",
    "1 6 15 20 15 6 1"
   ]
  },
  {
   "cell_type": "code",
   "execution_count": 92,
   "id": "89890e07",
   "metadata": {},
   "outputs": [
    {
     "name": "stdout",
     "output_type": "stream",
     "text": [
      "1 \n",
      "1 1 \n",
      "1 2 1 \n",
      "1 3 3 1 \n",
      "1 4 6 4 1 \n",
      "1 5 10 10 5 1 \n",
      "1 6 15 20 15 6 1 \n"
     ]
    }
   ],
   "source": [
    "def printt(size):\n",
    "    for i in range(0, size):\n",
    "        for j in range(0, i + 1):\n",
    "            print(number(i, j), end=\" \")\n",
    "        print()\n",
    "\n",
    "\n",
    "def number(n, k):\n",
    "    num = 1\n",
    "    if k > n - k:\n",
    "        k = n - k\n",
    "    for i in range(0, k):\n",
    "        num = num * (n - i)\n",
    "        num = num // (i + 1)\n",
    "    return num\n",
    "\n",
    "rows = 7\n",
    "printt(rows)"
   ]
  },
  {
   "cell_type": "markdown",
   "id": "ec492b11",
   "metadata": {},
   "source": [
    "Pattern 7:\n"
   ]
  },
  {
   "cell_type": "code",
   "execution_count": 34,
   "id": "9b0f70a3",
   "metadata": {},
   "outputs": [
    {
     "name": "stdout",
     "output_type": "stream",
     "text": [
      "1 2 3 4 5 \n",
      "2 2 3 4 5 \n",
      "3 3 3 4 5 \n",
      "4 4 4 4 5 \n",
      "5 5 5 5 5 \n"
     ]
    }
   ],
   "source": [
    "for i in range(1,6):\n",
    "    l=[str(i)]\n",
    "    \n",
    "         \n",
    "    print((\" \").join(l*i),end=\" \")\n",
    "    for j in range (len(l*i)+1,6):\n",
    "        print(j,end=\" \")\n",
    "    print()    "
   ]
  },
  {
   "cell_type": "markdown",
   "id": "a4d3a0f3",
   "metadata": {},
   "source": [
    "Pattern 8:\n"
   ]
  },
  {
   "cell_type": "code",
   "execution_count": 46,
   "id": "c8809d1d",
   "metadata": {},
   "outputs": [
    {
     "name": "stdout",
     "output_type": "stream",
     "text": [
      "1 \n",
      "2 4 \n",
      "3 6 9 \n",
      "4 8 12 16 \n",
      "5 10 15 20 25 \n",
      "6 12 18 24 30 36 \n",
      "7 14 21 28 35 42 49 \n",
      "8 16 24 32 40 48 56 64 \n"
     ]
    }
   ],
   "source": [
    "for i in range(1,9):\n",
    "      for j in range(1,i+1):\n",
    "            print(i*j,end=\" \")\n",
    "      print()      "
   ]
  },
  {
   "cell_type": "markdown",
   "id": "80790f8c",
   "metadata": {},
   "source": [
    "Pattern 9:\n",
    " * * * * * * \n",
    "  * * * * * \n",
    "   * * * * \n",
    "    * * * \n",
    "     * * \n",
    "      * \n",
    "      "
   ]
  },
  {
   "cell_type": "code",
   "execution_count": 80,
   "id": "415212a6",
   "metadata": {},
   "outputs": [
    {
     "name": "stdout",
     "output_type": "stream",
     "text": [
      " * * * * * * \n",
      "  * * * * * \n",
      "   * * * * \n",
      "    * * * \n",
      "     * * \n",
      "      * \n",
      "       \n"
     ]
    }
   ],
   "source": [
    "k=0\n",
    "s=6\n",
    "for i in range(7):\n",
    "    for j in range(k+1):\n",
    "        print(\" \",end=\"\")\n",
    "    for j in range(s,0,-1):\n",
    "        print(\"* \",end=\"\")\n",
    "    k=k+1\n",
    "    s=s-1\n",
    "    print()"
   ]
  },
  {
   "cell_type": "markdown",
   "id": "ac91a542",
   "metadata": {},
   "source": [
    "Pattern 10:\n",
    "      * \n",
    "     * * \n",
    "    * * * \n",
    "   * * * * \n",
    "  * * * * * \n",
    " * * * * * * \n",
    "* * * * * * * \n"
   ]
  },
  {
   "cell_type": "code",
   "execution_count": 69,
   "id": "d2028f35",
   "metadata": {},
   "outputs": [
    {
     "name": "stdout",
     "output_type": "stream",
     "text": [
      "      * \n",
      "     * * \n",
      "    * * * \n",
      "   * * * * \n",
      "  * * * * * \n",
      " * * * * * * \n",
      "* * * * * * * \n"
     ]
    }
   ],
   "source": [
    "k=6\n",
    "b=1\n",
    "for i in range(1,8):\n",
    "   for j in range(1,k+1):\n",
    "    print(\" \",end=\"\")\n",
    "   for j in range(1,b+1):\n",
    "    print(\"* \",end=\"\")\n",
    "   k=k-1\n",
    "   b=b+1\n",
    "   print() \n",
    "    "
   ]
  },
  {
   "cell_type": "markdown",
   "id": "bb85a3e3",
   "metadata": {},
   "source": [
    "Pattern 11:\n"
   ]
  },
  {
   "cell_type": "code",
   "execution_count": 54,
   "id": "de848f70",
   "metadata": {},
   "outputs": [
    {
     "name": "stdout",
     "output_type": "stream",
     "text": [
      "* \n",
      "* * \n",
      "* * * \n",
      "* * * * \n",
      "* * * * * \n",
      "* * * * * * \n",
      "* * * * * * * \n",
      "\n",
      "* * * * * * * \n",
      "* * * * * * \n",
      "* * * * * \n",
      "* * * * \n",
      "* * * \n",
      "* * \n",
      "* \n"
     ]
    }
   ],
   "source": [
    "for i in range(1,8):\n",
    "     print(\"* \"*i)\n",
    "print()\n",
    "for i in range (7,0,-1):\n",
    "    print(\"* \"*i)"
   ]
  },
  {
   "cell_type": "markdown",
   "id": "57ea995b",
   "metadata": {},
   "source": [
    "Pattern 12:\n",
    " "
   ]
  },
  {
   "cell_type": "code",
   "execution_count": 56,
   "id": "d88a8a33",
   "metadata": {},
   "outputs": [
    {
     "name": "stdout",
     "output_type": "stream",
     "text": [
      "* \n",
      "* * \n",
      "* * * \n",
      "* * * * \n",
      "* * * * * \n",
      "* * * * \n",
      "* * * \n",
      "* * \n",
      "* \n"
     ]
    }
   ],
   "source": [
    "for i in range(1,5):\n",
    "     print(\"* \"*i)\n",
    "\n",
    "for i in range (5,0,-1):\n",
    "    print(\"* \"*i)"
   ]
  },
  {
   "cell_type": "markdown",
   "id": "34c83611",
   "metadata": {},
   "source": [
    "Pattern 13:\n",
    "    \n",
    "  "
   ]
  },
  {
   "cell_type": "code",
   "execution_count": 77,
   "id": "40d1bd48",
   "metadata": {},
   "outputs": [
    {
     "name": "stdout",
     "output_type": "stream",
     "text": [
      "    *\n",
      "   **\n",
      "  ***\n",
      " ****\n",
      "*****\n",
      " ****\n",
      "  ***\n",
      "   **\n",
      "    *\n"
     ]
    }
   ],
   "source": [
    "k=4\n",
    "b=1\n",
    "for i in range(1,6):\n",
    "   for j in range(1,k+1):\n",
    "    print(\" \",end=\"\")\n",
    "   for j in range(1,b+1):\n",
    "    print(\"*\",end=\"\")\n",
    "   k=k-1\n",
    "   b=b+1\n",
    "   print()\n",
    "k=0\n",
    "b=4\n",
    "for i in range(1,5):\n",
    "   for j in range(k+1):\n",
    "    print(\" \",end=\"\")\n",
    "   for j in range(1,b+1):\n",
    "    print(\"*\",end=\"\") \n",
    "   b=b-1\n",
    "   k=k+1\n",
    "   print() \n",
    "    \n",
    "    \n",
    "\n",
    "    "
   ]
  },
  {
   "cell_type": "markdown",
   "id": "1bb3e0d7",
   "metadata": {},
   "source": [
    "Pattern 14:"
   ]
  },
  {
   "cell_type": "code",
   "execution_count": 85,
   "id": "531e546d",
   "metadata": {},
   "outputs": [
    {
     "name": "stdout",
     "output_type": "stream",
     "text": [
      " * * * * * * \n",
      "  * * * * * \n",
      "   * * * * \n",
      "    * * * \n",
      "     * * \n",
      "      * \n",
      "       \n",
      "      * \n",
      "     * * \n",
      "    * * * \n",
      "   * * * * \n",
      "  * * * * * \n",
      " * * * * * * \n"
     ]
    }
   ],
   "source": [
    "k=0\n",
    "s=6\n",
    "for i in range(7):\n",
    "    for j in range(k+1):\n",
    "        print(\" \",end=\"\")\n",
    "    for j in range(s,0,-1):\n",
    "        print(\"* \",end=\"\")\n",
    "    k=k+1\n",
    "    s=s-1\n",
    "  \n",
    "    print()\n",
    "k=6\n",
    "b=1\n",
    "for i in range(1,7):\n",
    "   for j in range(1,k+1):\n",
    "    print(\" \",end=\"\")\n",
    "   for j in range(1,b+1):\n",
    "    print(\"* \",end=\"\")\n",
    "   k=k-1\n",
    "   b=b+1\n",
    "   print() \n",
    "        "
   ]
  },
  {
   "cell_type": "markdown",
   "id": "21fb9f70",
   "metadata": {},
   "source": [
    "Pattern 15:"
   ]
  },
  {
   "cell_type": "code",
   "execution_count": 90,
   "id": "42efbd07",
   "metadata": {},
   "outputs": [
    {
     "name": "stdout",
     "output_type": "stream",
     "text": [
      "****************\n",
      "*******__*******\n",
      "******____******\n",
      "*****______*****\n",
      "****________****\n",
      "***__________***\n",
      "**____________**\n",
      "*______________*\n",
      "________________\n"
     ]
    }
   ],
   "source": [
    "st1=8\n",
    "st2=8\n",
    "sp=0\n",
    "\n",
    "for i in range(9):\n",
    "    for j in range(1,st1+1):\n",
    "        print(\"*\",end=\"\")\n",
    "    for j in range(sp):\n",
    "        print(\"_\",end=\"\")\n",
    "    for j in range(1,st2+1):\n",
    "        print(\"*\",end=\"\")\n",
    "    st1=st1-1\n",
    "    st2=st2-1\n",
    "    sp=sp+2\n",
    "    print()\n",
    "    "
   ]
  },
  {
   "cell_type": "code",
   "execution_count": null,
   "id": "1f7c0b81",
   "metadata": {},
   "outputs": [],
   "source": []
  }
 ],
 "metadata": {
  "kernelspec": {
   "display_name": "Python 3",
   "language": "python",
   "name": "python3"
  },
  "language_info": {
   "codemirror_mode": {
    "name": "ipython",
    "version": 3
   },
   "file_extension": ".py",
   "mimetype": "text/x-python",
   "name": "python",
   "nbconvert_exporter": "python",
   "pygments_lexer": "ipython3",
   "version": "3.8.8"
  }
 },
 "nbformat": 4,
 "nbformat_minor": 5
}
