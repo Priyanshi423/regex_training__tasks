{
 "cells": [
  {
   "cell_type": "markdown",
   "id": "655fb62d",
   "metadata": {},
   "source": [
    "TASK2_PRIYANSHI AGARWAL SIRSS1156"
   ]
  },
  {
   "cell_type": "markdown",
   "id": "16542980",
   "metadata": {},
   "source": [
    "Q1. Write a lambda expression to extract first word of a string.\n",
    "\n",
    "\n",
    "\n"
   ]
  },
  {
   "cell_type": "code",
   "execution_count": 20,
   "id": "1168f6cf",
   "metadata": {},
   "outputs": [
    {
     "data": {
      "text/plain": [
       "'h'"
      ]
     },
     "execution_count": 20,
     "metadata": {},
     "output_type": "execute_result"
    }
   ],
   "source": [
    "s=\"hello world\"\n",
    "a=lambda x:x[0]\n",
    "a(s)"
   ]
  },
  {
   "cell_type": "markdown",
   "id": "8fc21921",
   "metadata": {},
   "source": [
    "Q2. Write a function to extract first word of s string (with many words separated by space)."
   ]
  },
  {
   "cell_type": "code",
   "execution_count": 21,
   "id": "fa301bdb",
   "metadata": {},
   "outputs": [
    {
     "data": {
      "text/plain": [
       "'hello'"
      ]
     },
     "execution_count": 21,
     "metadata": {},
     "output_type": "execute_result"
    }
   ],
   "source": [
    "s=\"hello my name is priyanshi\"\n",
    "def fun(s):\n",
    "    return s.split()[0]\n",
    "fun(s)\n"
   ]
  },
  {
   "cell_type": "markdown",
   "id": "b82858ac",
   "metadata": {},
   "source": [
    "Q3. Extract the first word from every string from a list of strings by using map function."
   ]
  },
  {
   "cell_type": "code",
   "execution_count": 22,
   "id": "c8a0c6eb",
   "metadata": {},
   "outputs": [
    {
     "data": {
      "text/plain": [
       "['h', 'p', 'A', 'j']"
      ]
     },
     "execution_count": 22,
     "metadata": {},
     "output_type": "execute_result"
    }
   ],
   "source": [
    "l=[\"hello\",\"priyanshi\",\"Agarwal\",\"jaipur\"]\n",
    "k=list(map(lambda x:x[0],l))\n",
    "k"
   ]
  },
  {
   "cell_type": "markdown",
   "id": "2d54e1b7",
   "metadata": {},
   "source": [
    "Q4. Write a function to return a list of prime factors of a given number."
   ]
  },
  {
   "cell_type": "code",
   "execution_count": 23,
   "id": "7a8220db",
   "metadata": {},
   "outputs": [
    {
     "name": "stdout",
     "output_type": "stream",
     "text": [
      "[2, 2, 7]\n"
     ]
    }
   ],
   "source": [
    "def f(n):\n",
    "    i=2\n",
    "    l=[]\n",
    "    while(n>1):\n",
    "        \n",
    "       while(n%i==0):\n",
    "        n=n/i\n",
    "        l.append(i)\n",
    "       i=i+1\n",
    "    return l\n",
    "print(f(28))    \n",
    "    "
   ]
  },
  {
   "cell_type": "markdown",
   "id": "457d16cb",
   "metadata": {},
   "source": [
    "Q5. Write a function that finds 2nd largest among 4 numbers (Repetitions are allowed,\n",
    "without sorting)."
   ]
  },
  {
   "cell_type": "code",
   "execution_count": 24,
   "id": "e6520770",
   "metadata": {},
   "outputs": [
    {
     "data": {
      "text/plain": [
       "4"
      ]
     },
     "execution_count": 24,
     "metadata": {},
     "output_type": "execute_result"
    }
   ],
   "source": [
    "l=[1,2,3,4,4,5]\n",
    "def f(l):\n",
    "   m=max(l)\n",
    "   m \n",
    "   while(True):\n",
    "    l.remove(m)\n",
    "    i=max(l)\n",
    "    if(m!=i):\n",
    "        return i\n",
    "f(l)        "
   ]
  },
  {
   "cell_type": "code",
   "execution_count": null,
   "id": "22543325",
   "metadata": {},
   "outputs": [],
   "source": []
  },
  {
   "cell_type": "code",
   "execution_count": null,
   "id": "ccc3e5ad",
   "metadata": {},
   "outputs": [],
   "source": []
  },
  {
   "cell_type": "code",
   "execution_count": null,
   "id": "4ee0c014",
   "metadata": {},
   "outputs": [],
   "source": []
  }
 ],
 "metadata": {
  "kernelspec": {
   "display_name": "Python 3",
   "language": "python",
   "name": "python3"
  },
  "language_info": {
   "codemirror_mode": {
    "name": "ipython",
    "version": 3
   },
   "file_extension": ".py",
   "mimetype": "text/x-python",
   "name": "python",
   "nbconvert_exporter": "python",
   "pygments_lexer": "ipython3",
   "version": "3.8.8"
  }
 },
 "nbformat": 4,
 "nbformat_minor": 5
}
